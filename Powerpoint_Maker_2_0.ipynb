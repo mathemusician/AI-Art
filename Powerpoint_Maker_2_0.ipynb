{
  "nbformat": 4,
  "nbformat_minor": 0,
  "metadata": {
    "colab": {
      "name": "Powerpoint Maker 2.0.ipynb",
      "provenance": [],
      "collapsed_sections": [],
      "authorship_tag": "ABX9TyO/DrCLTdX7An6Lb7XrDc/8",
      "include_colab_link": true
    },
    "kernelspec": {
      "name": "python3",
      "display_name": "Python 3"
    },
    "language_info": {
      "name": "python"
    },
    "widgets": {
      "application/vnd.jupyter.widget-state+json": {
        "96c63c2559ca42c1a95908fd5f987be9": {
          "model_module": "@jupyter-widgets/controls",
          "model_name": "IntSliderModel",
          "state": {
            "_view_name": "IntSliderView",
            "style": "IPY_MODEL_734afb023e9848bbb3f5ecd6fb4dbb06",
            "_dom_classes": [],
            "description": "Font Size:",
            "step": 1,
            "_model_name": "IntSliderModel",
            "orientation": "horizontal",
            "max": 80,
            "_view_module": "@jupyter-widgets/controls",
            "_model_module_version": "1.5.0",
            "value": 50,
            "_view_count": null,
            "disabled": false,
            "_view_module_version": "1.5.0",
            "min": 30,
            "continuous_update": false,
            "readout_format": "d",
            "description_tooltip": null,
            "readout": true,
            "_model_module": "@jupyter-widgets/controls",
            "layout": "IPY_MODEL_6368910e50a14bd2a8c48eb6907163a8"
          }
        },
        "734afb023e9848bbb3f5ecd6fb4dbb06": {
          "model_module": "@jupyter-widgets/controls",
          "model_name": "SliderStyleModel",
          "state": {
            "_view_name": "StyleView",
            "handle_color": null,
            "_model_name": "SliderStyleModel",
            "description_width": "",
            "_view_module": "@jupyter-widgets/base",
            "_model_module_version": "1.5.0",
            "_view_count": null,
            "_view_module_version": "1.2.0",
            "_model_module": "@jupyter-widgets/controls"
          }
        },
        "6368910e50a14bd2a8c48eb6907163a8": {
          "model_module": "@jupyter-widgets/base",
          "model_name": "LayoutModel",
          "state": {
            "_view_name": "LayoutView",
            "grid_template_rows": null,
            "right": null,
            "justify_content": null,
            "_view_module": "@jupyter-widgets/base",
            "overflow": null,
            "_model_module_version": "1.2.0",
            "_view_count": null,
            "flex_flow": null,
            "width": null,
            "min_width": null,
            "border": null,
            "align_items": null,
            "bottom": null,
            "_model_module": "@jupyter-widgets/base",
            "top": null,
            "grid_column": null,
            "overflow_y": null,
            "overflow_x": null,
            "grid_auto_flow": null,
            "grid_area": null,
            "grid_template_columns": null,
            "flex": null,
            "_model_name": "LayoutModel",
            "justify_items": null,
            "grid_row": null,
            "max_height": null,
            "align_content": null,
            "visibility": null,
            "align_self": null,
            "height": null,
            "min_height": null,
            "padding": null,
            "grid_auto_rows": null,
            "grid_gap": null,
            "max_width": null,
            "order": null,
            "_view_module_version": "1.2.0",
            "grid_template_areas": null,
            "object_position": null,
            "object_fit": null,
            "grid_auto_columns": null,
            "margin": null,
            "display": null,
            "left": null
          }
        },
        "ed6794ff394c44109ab489bce1b5a116": {
          "model_module": "@jupyter-widgets/controls",
          "model_name": "DropdownModel",
          "state": {
            "_options_labels": [
              "1",
              "2",
              "3",
              "4"
            ],
            "_view_name": "DropdownView",
            "style": "IPY_MODEL_dca97b9cfc4347cdb86ff72132bdaf94",
            "_dom_classes": [],
            "description": "Split Lyrics:",
            "_model_name": "DropdownModel",
            "index": 1,
            "_view_module": "@jupyter-widgets/controls",
            "_model_module_version": "1.5.0",
            "_view_count": null,
            "disabled": false,
            "_view_module_version": "1.5.0",
            "description_tooltip": null,
            "_model_module": "@jupyter-widgets/controls",
            "layout": "IPY_MODEL_c8419604addc4148a7f784b882db4596"
          }
        },
        "dca97b9cfc4347cdb86ff72132bdaf94": {
          "model_module": "@jupyter-widgets/controls",
          "model_name": "DescriptionStyleModel",
          "state": {
            "_view_name": "StyleView",
            "_model_name": "DescriptionStyleModel",
            "description_width": "",
            "_view_module": "@jupyter-widgets/base",
            "_model_module_version": "1.5.0",
            "_view_count": null,
            "_view_module_version": "1.2.0",
            "_model_module": "@jupyter-widgets/controls"
          }
        },
        "c8419604addc4148a7f784b882db4596": {
          "model_module": "@jupyter-widgets/base",
          "model_name": "LayoutModel",
          "state": {
            "_view_name": "LayoutView",
            "grid_template_rows": null,
            "right": null,
            "justify_content": null,
            "_view_module": "@jupyter-widgets/base",
            "overflow": null,
            "_model_module_version": "1.2.0",
            "_view_count": null,
            "flex_flow": null,
            "width": null,
            "min_width": null,
            "border": null,
            "align_items": null,
            "bottom": null,
            "_model_module": "@jupyter-widgets/base",
            "top": null,
            "grid_column": null,
            "overflow_y": null,
            "overflow_x": null,
            "grid_auto_flow": null,
            "grid_area": null,
            "grid_template_columns": null,
            "flex": null,
            "_model_name": "LayoutModel",
            "justify_items": null,
            "grid_row": null,
            "max_height": null,
            "align_content": null,
            "visibility": null,
            "align_self": null,
            "height": null,
            "min_height": null,
            "padding": null,
            "grid_auto_rows": null,
            "grid_gap": null,
            "max_width": null,
            "order": null,
            "_view_module_version": "1.2.0",
            "grid_template_areas": null,
            "object_position": null,
            "object_fit": null,
            "grid_auto_columns": null,
            "margin": null,
            "display": null,
            "left": null
          }
        },
        "f49bc9b95e754b4d8cb86e2d53b4fab0": {
          "model_module": "@jupyter-widgets/controls",
          "model_name": "TextModel",
          "state": {
            "_view_name": "TextView",
            "style": "IPY_MODEL_7da8a67012144a67b1da21e8cb0b8031",
            "_dom_classes": [],
            "description": "Name:",
            "_model_name": "TextModel",
            "placeholder": "Type something",
            "_view_module": "@jupyter-widgets/controls",
            "_model_module_version": "1.5.0",
            "value": "Powerpoint Name",
            "_view_count": null,
            "disabled": false,
            "_view_module_version": "1.5.0",
            "continuous_update": true,
            "description_tooltip": null,
            "_model_module": "@jupyter-widgets/controls",
            "layout": "IPY_MODEL_09912829aca24784a840b30b83d27928"
          }
        },
        "7da8a67012144a67b1da21e8cb0b8031": {
          "model_module": "@jupyter-widgets/controls",
          "model_name": "DescriptionStyleModel",
          "state": {
            "_view_name": "StyleView",
            "_model_name": "DescriptionStyleModel",
            "description_width": "",
            "_view_module": "@jupyter-widgets/base",
            "_model_module_version": "1.5.0",
            "_view_count": null,
            "_view_module_version": "1.2.0",
            "_model_module": "@jupyter-widgets/controls"
          }
        },
        "09912829aca24784a840b30b83d27928": {
          "model_module": "@jupyter-widgets/base",
          "model_name": "LayoutModel",
          "state": {
            "_view_name": "LayoutView",
            "grid_template_rows": null,
            "right": null,
            "justify_content": null,
            "_view_module": "@jupyter-widgets/base",
            "overflow": null,
            "_model_module_version": "1.2.0",
            "_view_count": null,
            "flex_flow": null,
            "width": null,
            "min_width": null,
            "border": null,
            "align_items": null,
            "bottom": null,
            "_model_module": "@jupyter-widgets/base",
            "top": null,
            "grid_column": null,
            "overflow_y": null,
            "overflow_x": null,
            "grid_auto_flow": null,
            "grid_area": null,
            "grid_template_columns": null,
            "flex": null,
            "_model_name": "LayoutModel",
            "justify_items": null,
            "grid_row": null,
            "max_height": null,
            "align_content": null,
            "visibility": null,
            "align_self": null,
            "height": null,
            "min_height": null,
            "padding": null,
            "grid_auto_rows": null,
            "grid_gap": null,
            "max_width": null,
            "order": null,
            "_view_module_version": "1.2.0",
            "grid_template_areas": null,
            "object_position": null,
            "object_fit": null,
            "grid_auto_columns": null,
            "margin": null,
            "display": null,
            "left": null
          }
        },
        "30b3725b94394bcdbcbf1ccf64d9df95": {
          "model_module": "@jupyter-widgets/controls",
          "model_name": "TextareaModel",
          "state": {
            "_view_name": "TextareaView",
            "style": "IPY_MODEL_4d4c5ee5ded64dd498d48c75fcb5b1ef",
            "rows": null,
            "_dom_classes": [],
            "description": "Lyrics:",
            "_model_name": "TextareaModel",
            "placeholder": "Type something",
            "_view_module": "@jupyter-widgets/controls",
            "_model_module_version": "1.5.0",
            "value": "Example Lyrics\nYay!",
            "_view_count": null,
            "disabled": false,
            "_view_module_version": "1.5.0",
            "continuous_update": true,
            "description_tooltip": null,
            "_model_module": "@jupyter-widgets/controls",
            "layout": "IPY_MODEL_b548701969c441c8a52fe01be0d48dd4"
          }
        },
        "4d4c5ee5ded64dd498d48c75fcb5b1ef": {
          "model_module": "@jupyter-widgets/controls",
          "model_name": "DescriptionStyleModel",
          "state": {
            "_view_name": "StyleView",
            "_model_name": "DescriptionStyleModel",
            "description_width": "",
            "_view_module": "@jupyter-widgets/base",
            "_model_module_version": "1.5.0",
            "_view_count": null,
            "_view_module_version": "1.2.0",
            "_model_module": "@jupyter-widgets/controls"
          }
        },
        "b548701969c441c8a52fe01be0d48dd4": {
          "model_module": "@jupyter-widgets/base",
          "model_name": "LayoutModel",
          "state": {
            "_view_name": "LayoutView",
            "grid_template_rows": null,
            "right": null,
            "justify_content": null,
            "_view_module": "@jupyter-widgets/base",
            "overflow": null,
            "_model_module_version": "1.2.0",
            "_view_count": null,
            "flex_flow": null,
            "width": null,
            "min_width": null,
            "border": null,
            "align_items": null,
            "bottom": null,
            "_model_module": "@jupyter-widgets/base",
            "top": null,
            "grid_column": null,
            "overflow_y": null,
            "overflow_x": null,
            "grid_auto_flow": null,
            "grid_area": null,
            "grid_template_columns": null,
            "flex": null,
            "_model_name": "LayoutModel",
            "justify_items": null,
            "grid_row": null,
            "max_height": null,
            "align_content": null,
            "visibility": null,
            "align_self": null,
            "height": null,
            "min_height": null,
            "padding": null,
            "grid_auto_rows": null,
            "grid_gap": null,
            "max_width": null,
            "order": null,
            "_view_module_version": "1.2.0",
            "grid_template_areas": null,
            "object_position": null,
            "object_fit": null,
            "grid_auto_columns": null,
            "margin": null,
            "display": null,
            "left": null
          }
        }
      }
    }
  },
  "cells": [
    {
      "cell_type": "markdown",
      "metadata": {
        "id": "view-in-github",
        "colab_type": "text"
      },
      "source": [
        "<a href=\"https://colab.research.google.com/github/mathemusician/AI-Art/blob/master/Powerpoint_Maker_2_0.ipynb\" target=\"_parent\"><img src=\"https://colab.research.google.com/assets/colab-badge.svg\" alt=\"Open In Colab\"/></a>"
      ]
    },
    {
      "cell_type": "code",
      "metadata": {
        "colab": {
          "base_uri": "https://localhost:8080/",
          "height": 152,
          "referenced_widgets": [
            "96c63c2559ca42c1a95908fd5f987be9",
            "734afb023e9848bbb3f5ecd6fb4dbb06",
            "6368910e50a14bd2a8c48eb6907163a8",
            "ed6794ff394c44109ab489bce1b5a116",
            "dca97b9cfc4347cdb86ff72132bdaf94",
            "c8419604addc4148a7f784b882db4596",
            "f49bc9b95e754b4d8cb86e2d53b4fab0",
            "7da8a67012144a67b1da21e8cb0b8031",
            "09912829aca24784a840b30b83d27928",
            "30b3725b94394bcdbcbf1ccf64d9df95",
            "4d4c5ee5ded64dd498d48c75fcb5b1ef",
            "b548701969c441c8a52fe01be0d48dd4"
          ]
        },
        "id": "WPxn6tck0Bni",
        "cellView": "form",
        "outputId": "f349a604-0ea2-4dbe-b41f-296e09b41c2c"
      },
      "source": [
        "r'''\n",
        "PowerPoint Maker\n",
        "\n",
        "Made by Jv Kyle Eclarin\n",
        "https://github.com/mathemusician/\n",
        "'''\n",
        "\n",
        "#@title <-- 1) Press Play to Apply Powerpoint Attributes\n",
        "\n",
        "import ipywidgets as widgets\n",
        "from IPython.display import display\n",
        "\n",
        "\n",
        "\n",
        "_font_size = widgets.IntSlider(\n",
        "    value=50,\n",
        "    min=30,\n",
        "    max=80,\n",
        "    step=1,\n",
        "    description='Font Size:',\n",
        "    disabled=False,\n",
        "    continuous_update=False,\n",
        "    orientation='horizontal',\n",
        "    readout=True,\n",
        "    readout_format='d',\n",
        "    indent=True,\n",
        "    font_size=30\n",
        ")\n",
        "\n",
        "_split_lyrics_by = widgets.Dropdown(\n",
        "    options=['1', '2', '3', '4'],\n",
        "    value='2',\n",
        "    description='Split Lyrics:',\n",
        "    disabled=False,\n",
        ")\n",
        "\n",
        "_powerpoint_name = widgets.Text(\n",
        "    value='Powerpoint Name',\n",
        "    placeholder='Type something',\n",
        "    description='Name:',\n",
        "    disabled=False\n",
        ")\n",
        "\n",
        "_lyrics_and_sections = widgets.Textarea(\n",
        "    value='Example Lyrics\\nYay!',\n",
        "    placeholder='Type something',\n",
        "    description='Lyrics:',\n",
        "    disabled=False\n",
        ")\n",
        "\n",
        "display(_font_size)\n",
        "display(_split_lyrics_by)\n",
        "display(_powerpoint_name)\n",
        "display(_lyrics_and_sections)"
      ],
      "execution_count": 51,
      "outputs": [
        {
          "output_type": "display_data",
          "data": {
            "application/vnd.jupyter.widget-view+json": {
              "model_id": "96c63c2559ca42c1a95908fd5f987be9",
              "version_minor": 0,
              "version_major": 2
            },
            "text/plain": [
              "IntSlider(value=50, continuous_update=False, description='Font Size:', max=80, min=30)"
            ]
          },
          "metadata": {
            "tags": []
          }
        },
        {
          "output_type": "display_data",
          "data": {
            "application/vnd.jupyter.widget-view+json": {
              "model_id": "ed6794ff394c44109ab489bce1b5a116",
              "version_minor": 0,
              "version_major": 2
            },
            "text/plain": [
              "Dropdown(description='Split Lyrics:', index=1, options=('1', '2', '3', '4'), value='2')"
            ]
          },
          "metadata": {
            "tags": []
          }
        },
        {
          "output_type": "display_data",
          "data": {
            "application/vnd.jupyter.widget-view+json": {
              "model_id": "f49bc9b95e754b4d8cb86e2d53b4fab0",
              "version_minor": 0,
              "version_major": 2
            },
            "text/plain": [
              "Text(value='Powerpoint Name', description='Name:', placeholder='Type something')"
            ]
          },
          "metadata": {
            "tags": []
          }
        },
        {
          "output_type": "display_data",
          "data": {
            "application/vnd.jupyter.widget-view+json": {
              "model_id": "30b3725b94394bcdbcbf1ccf64d9df95",
              "version_minor": 0,
              "version_major": 2
            },
            "text/plain": [
              "Textarea(value='Example Lyrics\\nYay!', description='Lyrics:', placeholder='Type something')"
            ]
          },
          "metadata": {
            "tags": []
          }
        }
      ]
    },
    {
      "cell_type": "code",
      "metadata": {
        "id": "bTj76qk2GAvT",
        "colab": {
          "base_uri": "https://localhost:8080/",
          "height": 85
        },
        "cellView": "form",
        "outputId": "cd651299-569b-464b-8222-4edda52c88e1"
      },
      "source": [
        "#@title <-- 2) Press Play to Download Lyrics\n",
        "\n",
        "!pip install python-pptx\n",
        "\n",
        "\n",
        "import sys\n",
        "from pptx import Presentation\n",
        "from pptx.util import Pt\n",
        "from pptx.dml.color import RGBColor\n",
        "from pptx.util import Inches\n",
        "from google.colab import files\n",
        "from itertools import zip_longest\n",
        "from math import ceil\n",
        "\n",
        "\n",
        "\n",
        "def grouper(n, iterable, padvalue=''):\n",
        "  \"grouper(3, 'abcdefg', 'x') --> ('a','b','c'), ('d','e','f'), ('g','x','x')\"\n",
        "  return zip_longest(*[iter(iterable)]*n, fillvalue=padvalue)\n",
        "\n",
        "\n",
        "\n",
        "def split_lyrics_by_number(lyrics_and_sections, split_number):\n",
        "  \n",
        "  groups = grouper(int(split_number), lyrics_and_sections)\n",
        "  num_iters = ceil( len(lyrics_and_sections) / int(split_number) )\n",
        "  lyrics_and_sections = ['\\n'.join(next(groups)) for i in range(num_iters)]\n",
        "  \n",
        "  # get rid of trailing newlines\n",
        "  lyrics_and_sections[-1] = lyrics_and_sections[-1].strip()\n",
        "  \n",
        "  return lyrics_and_sections\n",
        "\n",
        "\n",
        "\n",
        "def split_by_font_size(lyrics_and_sections):\n",
        "  \n",
        "  parsed_lyrics = []\n",
        "\n",
        "  for lyric in lyrics_and_sections:\n",
        "\n",
        "      if len(lyric) > 50:\n",
        "          # just split it in half\n",
        "          lyric_list = lyric.split(' ')\n",
        "          length_of_lyric = len(lyric_list)\n",
        "\n",
        "          if '\\n' in lyric:\n",
        "              length_of_first_part = lyric.index('\\n')\n",
        "              lyric = lyric.replace('\\n','')\n",
        "              parsed_lyrics.append(lyric[:length_of_first_part])\n",
        "              parsed_lyrics.append(lyric[length_of_first_part:])\n",
        "\n",
        "          else:\n",
        "              length_of_first_part = int(length_of_lyric/2)\n",
        "              first_part = lyric_list[:length_of_first_part]\n",
        "              second_part = lyric_list[length_of_first_part:]\n",
        "              parsed_lyrics.append(' '.join(first_part))\n",
        "              parsed_lyrics.append(' '.join(second_part))\n",
        "\n",
        "      else:\n",
        "          parsed_lyrics.append(lyric)\n",
        "  \n",
        "  return parsed_lyrics\n",
        "\n",
        "\n",
        "\n",
        "def get_rid_of_informative_lyrics(lyrics_and_sections):\n",
        "  \n",
        "  parsed_lyrics = []\n",
        "  \n",
        "  for lyric in lyrics_and_sections:\n",
        "    if ('[' in lyric) or (']' in lyric):\n",
        "      pass\n",
        "    else:\n",
        "      parsed_lyrics.append(lyric)\n",
        "  \n",
        "  return parsed_lyrics\n",
        "\n",
        "\n",
        "def make_powerpoint(font_size, split_lyrics_by, powerpoint_name, lyrics_and_sections):\n",
        "\n",
        "  # split lyrics by ones\n",
        "  lyrics_and_sections = lyrics_and_sections.split('\\n')\n",
        "\n",
        "  # get rid of informative lyrics\n",
        "  lyrics_and_sections = get_rid_of_informative_lyrics(lyrics_and_sections)\n",
        "\n",
        "  # split lyrics using font sizes\n",
        "  lyrics_and_sections = split_by_font_size(lyrics_and_sections)\n",
        "\n",
        "  # split lyrics by number\n",
        "  lyrics_and_sections = split_lyrics_by_number(lyrics_and_sections, split_lyrics_by)\n",
        "\n",
        "\n",
        "  # Make presentation\n",
        "  prs = Presentation()\n",
        "  title_slide_layout = prs.slide_layouts[0]\n",
        "\n",
        "  # make slides\n",
        "  for lyric in lyrics_and_sections:\n",
        "   \n",
        "      slide = prs.slides.add_slide(title_slide_layout)\n",
        "      title = slide.shapes.title\n",
        "      title.text = lyric\n",
        "      \n",
        "      # make background black\n",
        "      fill = slide.background.fill\n",
        "      fill.solid()\n",
        "      fill.fore_color.theme_color = 1\n",
        "      \n",
        "      # Center text\n",
        "      if split_lyrics_by == '1':\n",
        "        title.top = Inches(3)\n",
        "      elif split_lyrics_by == '2':\n",
        "        title.top = Inches(3)\n",
        "      elif split_lyrics_by == '3':\n",
        "        title.top = Inches(2.5)\n",
        "      elif split_lyrics_by == '4':\n",
        "        title.top = Inches(2)\n",
        "      title.left = Inches(0)\n",
        "      title.width = Inches(10)\n",
        "      title.height = 1470025\n",
        "      \n",
        "      # format individual lines of words\n",
        "      for para_id in range(len(slide.shapes.title.text_frame.paragraphs)):\n",
        "          title.text_frame.paragraphs[para_id].font.bold = True\n",
        "          title.text_frame.paragraphs[para_id].font.name = 'Helvetica'\n",
        "          title.text_frame.paragraphs[para_id].font.size = Pt(font_size)  # can be 58 or 44\n",
        "          title.text_frame.paragraphs[para_id].font.color.rgb = RGBColor(255, 255, 255)\n",
        "\n",
        "\n",
        "  prs.save(f'{powerpoint_name}.pptx')\n",
        "  files.download(f'{powerpoint_name}.pptx')\n",
        "\n",
        "'''\n",
        "try:\n",
        "  font_size = _font_size.value\n",
        "  split_lyrics_by = _split_lyrics_by.value\n",
        "  powerpoint_name = _powerpoint_name.value\n",
        "  lyrics_and_sections = _lyrics_and_sections.value\n",
        "\n",
        "  make_powerpoint(font_size, split_lyrics_by, powerpoint_name, lyrics_and_sections)\n",
        "  \n",
        "except Exception as e:\n",
        "  print(e)\n",
        "  print('\\n\\n!Please press run button on Powerpoint Attributes')\n",
        "'''\n",
        "\n",
        "font_size = _font_size.value\n",
        "split_lyrics_by = _split_lyrics_by.value\n",
        "powerpoint_name = _powerpoint_name.value\n",
        "lyrics_and_sections = _lyrics_and_sections.value\n",
        "\n",
        "make_powerpoint(font_size, split_lyrics_by, powerpoint_name, lyrics_and_sections)"
      ],
      "execution_count": 53,
      "outputs": [
        {
          "output_type": "stream",
          "text": [
            "Requirement already satisfied: python-pptx in /usr/local/lib/python3.7/dist-packages (0.6.19)\n",
            "Requirement already satisfied: Pillow>=3.3.2 in /usr/local/lib/python3.7/dist-packages (from python-pptx) (7.1.2)\n",
            "Requirement already satisfied: XlsxWriter>=0.5.7 in /usr/local/lib/python3.7/dist-packages (from python-pptx) (1.4.5)\n",
            "Requirement already satisfied: lxml>=3.1.0 in /usr/local/lib/python3.7/dist-packages (from python-pptx) (4.2.6)\n"
          ],
          "name": "stdout"
        },
        {
          "output_type": "display_data",
          "data": {
            "application/javascript": [
              "\n",
              "    async function download(id, filename, size) {\n",
              "      if (!google.colab.kernel.accessAllowed) {\n",
              "        return;\n",
              "      }\n",
              "      const div = document.createElement('div');\n",
              "      const label = document.createElement('label');\n",
              "      label.textContent = `Downloading \"${filename}\": `;\n",
              "      div.appendChild(label);\n",
              "      const progress = document.createElement('progress');\n",
              "      progress.max = size;\n",
              "      div.appendChild(progress);\n",
              "      document.body.appendChild(div);\n",
              "\n",
              "      const buffers = [];\n",
              "      let downloaded = 0;\n",
              "\n",
              "      const channel = await google.colab.kernel.comms.open(id);\n",
              "      // Send a message to notify the kernel that we're ready.\n",
              "      channel.send({})\n",
              "\n",
              "      for await (const message of channel.messages) {\n",
              "        // Send a message to notify the kernel that we're ready.\n",
              "        channel.send({})\n",
              "        if (message.buffers) {\n",
              "          for (const buffer of message.buffers) {\n",
              "            buffers.push(buffer);\n",
              "            downloaded += buffer.byteLength;\n",
              "            progress.value = downloaded;\n",
              "          }\n",
              "        }\n",
              "      }\n",
              "      const blob = new Blob(buffers, {type: 'application/binary'});\n",
              "      const a = document.createElement('a');\n",
              "      a.href = window.URL.createObjectURL(blob);\n",
              "      a.download = filename;\n",
              "      div.appendChild(a);\n",
              "      a.click();\n",
              "      div.remove();\n",
              "    }\n",
              "  "
            ],
            "text/plain": [
              "<IPython.core.display.Javascript object>"
            ]
          },
          "metadata": {
            "tags": []
          }
        },
        {
          "output_type": "display_data",
          "data": {
            "application/javascript": [
              "download(\"download_0a3e237e-95e4-45b0-a071-85aea8f0ffbf\", \"Powerpoint Name.pptx\", 28400)"
            ],
            "text/plain": [
              "<IPython.core.display.Javascript object>"
            ]
          },
          "metadata": {
            "tags": []
          }
        }
      ]
    }
  ]
}